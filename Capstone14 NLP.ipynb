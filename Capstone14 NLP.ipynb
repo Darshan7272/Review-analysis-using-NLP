{
 "cells": [
  {
   "cell_type": "code",
   "execution_count": 1,
   "metadata": {
    "_cell_guid": "b1076dfc-b9ad-4769-8c92-a6c4dae69d19",
    "_uuid": "8f2839f25d086af736a60e9eeb907d3b93b6e0e5",
    "execution": {
     "iopub.execute_input": "2025-01-10T08:48:37.067972Z",
     "iopub.status.busy": "2025-01-10T08:48:37.067602Z",
     "iopub.status.idle": "2025-01-10T08:49:16.924185Z",
     "shell.execute_reply": "2025-01-10T08:49:16.922523Z",
     "shell.execute_reply.started": "2025-01-10T08:48:37.067921Z"
    }
   },
   "outputs": [
    {
     "name": "stdout",
     "output_type": "stream",
     "text": [
      "Collecting en-core-web-lg==3.7.1\n",
      "  Downloading https://github.com/explosion/spacy-models/releases/download/en_core_web_lg-3.7.1/en_core_web_lg-3.7.1-py3-none-any.whl (587.7 MB)\n",
      "\u001b[2K     \u001b[90m━━━━━━━━━━━━━━━━━━━━━━━━━━━━━━━━━━━━━━━━\u001b[0m \u001b[32m587.7/587.7 MB\u001b[0m \u001b[31m2.9 MB/s\u001b[0m eta \u001b[36m0:00:00\u001b[0m:00:01\u001b[0m00:01\u001b[0m\n",
      "\u001b[?25hRequirement already satisfied: spacy<3.8.0,>=3.7.2 in /usr/local/lib/python3.10/dist-packages (from en-core-web-lg==3.7.1) (3.7.6)\n",
      "Requirement already satisfied: spacy-legacy<3.1.0,>=3.0.11 in /usr/local/lib/python3.10/dist-packages (from spacy<3.8.0,>=3.7.2->en-core-web-lg==3.7.1) (3.0.12)\n",
      "Requirement already satisfied: spacy-loggers<2.0.0,>=1.0.0 in /usr/local/lib/python3.10/dist-packages (from spacy<3.8.0,>=3.7.2->en-core-web-lg==3.7.1) (1.0.5)\n",
      "Requirement already satisfied: murmurhash<1.1.0,>=0.28.0 in /usr/local/lib/python3.10/dist-packages (from spacy<3.8.0,>=3.7.2->en-core-web-lg==3.7.1) (1.0.10)\n",
      "Requirement already satisfied: cymem<2.1.0,>=2.0.2 in /usr/local/lib/python3.10/dist-packages (from spacy<3.8.0,>=3.7.2->en-core-web-lg==3.7.1) (2.0.8)\n",
      "Requirement already satisfied: preshed<3.1.0,>=3.0.2 in /usr/local/lib/python3.10/dist-packages (from spacy<3.8.0,>=3.7.2->en-core-web-lg==3.7.1) (3.0.9)\n",
      "Requirement already satisfied: thinc<8.3.0,>=8.2.2 in /usr/local/lib/python3.10/dist-packages (from spacy<3.8.0,>=3.7.2->en-core-web-lg==3.7.1) (8.2.5)\n",
      "Requirement already satisfied: wasabi<1.2.0,>=0.9.1 in /usr/local/lib/python3.10/dist-packages (from spacy<3.8.0,>=3.7.2->en-core-web-lg==3.7.1) (1.1.3)\n",
      "Requirement already satisfied: srsly<3.0.0,>=2.4.3 in /usr/local/lib/python3.10/dist-packages (from spacy<3.8.0,>=3.7.2->en-core-web-lg==3.7.1) (2.4.8)\n",
      "Requirement already satisfied: catalogue<2.1.0,>=2.0.6 in /usr/local/lib/python3.10/dist-packages (from spacy<3.8.0,>=3.7.2->en-core-web-lg==3.7.1) (2.0.10)\n",
      "Requirement already satisfied: weasel<0.5.0,>=0.1.0 in /usr/local/lib/python3.10/dist-packages (from spacy<3.8.0,>=3.7.2->en-core-web-lg==3.7.1) (0.4.1)\n",
      "Requirement already satisfied: typer<1.0.0,>=0.3.0 in /usr/local/lib/python3.10/dist-packages (from spacy<3.8.0,>=3.7.2->en-core-web-lg==3.7.1) (0.12.5)\n",
      "Requirement already satisfied: tqdm<5.0.0,>=4.38.0 in /usr/local/lib/python3.10/dist-packages (from spacy<3.8.0,>=3.7.2->en-core-web-lg==3.7.1) (4.66.5)\n",
      "Requirement already satisfied: requests<3.0.0,>=2.13.0 in /usr/local/lib/python3.10/dist-packages (from spacy<3.8.0,>=3.7.2->en-core-web-lg==3.7.1) (2.32.3)\n",
      "Requirement already satisfied: pydantic!=1.8,!=1.8.1,<3.0.0,>=1.7.4 in /usr/local/lib/python3.10/dist-packages (from spacy<3.8.0,>=3.7.2->en-core-web-lg==3.7.1) (2.9.2)\n",
      "Requirement already satisfied: jinja2 in /usr/local/lib/python3.10/dist-packages (from spacy<3.8.0,>=3.7.2->en-core-web-lg==3.7.1) (3.1.4)\n",
      "Requirement already satisfied: setuptools in /usr/local/lib/python3.10/dist-packages (from spacy<3.8.0,>=3.7.2->en-core-web-lg==3.7.1) (71.0.4)\n",
      "Requirement already satisfied: packaging>=20.0 in /usr/local/lib/python3.10/dist-packages (from spacy<3.8.0,>=3.7.2->en-core-web-lg==3.7.1) (24.1)\n",
      "Requirement already satisfied: langcodes<4.0.0,>=3.2.0 in /usr/local/lib/python3.10/dist-packages (from spacy<3.8.0,>=3.7.2->en-core-web-lg==3.7.1) (3.4.0)\n",
      "Requirement already satisfied: numpy>=1.19.0 in /usr/local/lib/python3.10/dist-packages (from spacy<3.8.0,>=3.7.2->en-core-web-lg==3.7.1) (1.26.4)\n",
      "Requirement already satisfied: language-data>=1.2 in /usr/local/lib/python3.10/dist-packages (from langcodes<4.0.0,>=3.2.0->spacy<3.8.0,>=3.7.2->en-core-web-lg==3.7.1) (1.2.0)\n",
      "Requirement already satisfied: annotated-types>=0.6.0 in /usr/local/lib/python3.10/dist-packages (from pydantic!=1.8,!=1.8.1,<3.0.0,>=1.7.4->spacy<3.8.0,>=3.7.2->en-core-web-lg==3.7.1) (0.7.0)\n",
      "Requirement already satisfied: pydantic-core==2.23.4 in /usr/local/lib/python3.10/dist-packages (from pydantic!=1.8,!=1.8.1,<3.0.0,>=1.7.4->spacy<3.8.0,>=3.7.2->en-core-web-lg==3.7.1) (2.23.4)\n",
      "Requirement already satisfied: typing-extensions>=4.6.1 in /usr/local/lib/python3.10/dist-packages (from pydantic!=1.8,!=1.8.1,<3.0.0,>=1.7.4->spacy<3.8.0,>=3.7.2->en-core-web-lg==3.7.1) (4.12.2)\n",
      "Requirement already satisfied: charset-normalizer<4,>=2 in /usr/local/lib/python3.10/dist-packages (from requests<3.0.0,>=2.13.0->spacy<3.8.0,>=3.7.2->en-core-web-lg==3.7.1) (3.3.2)\n",
      "Requirement already satisfied: idna<4,>=2.5 in /usr/local/lib/python3.10/dist-packages (from requests<3.0.0,>=2.13.0->spacy<3.8.0,>=3.7.2->en-core-web-lg==3.7.1) (3.10)\n",
      "Requirement already satisfied: urllib3<3,>=1.21.1 in /usr/local/lib/python3.10/dist-packages (from requests<3.0.0,>=2.13.0->spacy<3.8.0,>=3.7.2->en-core-web-lg==3.7.1) (2.2.3)\n",
      "Requirement already satisfied: certifi>=2017.4.17 in /usr/local/lib/python3.10/dist-packages (from requests<3.0.0,>=2.13.0->spacy<3.8.0,>=3.7.2->en-core-web-lg==3.7.1) (2024.8.30)\n",
      "Requirement already satisfied: blis<0.8.0,>=0.7.8 in /usr/local/lib/python3.10/dist-packages (from thinc<8.3.0,>=8.2.2->spacy<3.8.0,>=3.7.2->en-core-web-lg==3.7.1) (0.7.11)\n",
      "Requirement already satisfied: confection<1.0.0,>=0.0.1 in /usr/local/lib/python3.10/dist-packages (from thinc<8.3.0,>=8.2.2->spacy<3.8.0,>=3.7.2->en-core-web-lg==3.7.1) (0.1.5)\n",
      "Requirement already satisfied: click>=8.0.0 in /usr/local/lib/python3.10/dist-packages (from typer<1.0.0,>=0.3.0->spacy<3.8.0,>=3.7.2->en-core-web-lg==3.7.1) (8.1.7)\n",
      "Requirement already satisfied: shellingham>=1.3.0 in /usr/local/lib/python3.10/dist-packages (from typer<1.0.0,>=0.3.0->spacy<3.8.0,>=3.7.2->en-core-web-lg==3.7.1) (1.5.4)\n",
      "Requirement already satisfied: rich>=10.11.0 in /usr/local/lib/python3.10/dist-packages (from typer<1.0.0,>=0.3.0->spacy<3.8.0,>=3.7.2->en-core-web-lg==3.7.1) (13.8.1)\n",
      "Requirement already satisfied: cloudpathlib<1.0.0,>=0.7.0 in /usr/local/lib/python3.10/dist-packages (from weasel<0.5.0,>=0.1.0->spacy<3.8.0,>=3.7.2->en-core-web-lg==3.7.1) (0.19.0)\n",
      "Requirement already satisfied: smart-open<8.0.0,>=5.2.1 in /usr/local/lib/python3.10/dist-packages (from weasel<0.5.0,>=0.1.0->spacy<3.8.0,>=3.7.2->en-core-web-lg==3.7.1) (7.0.4)\n",
      "Requirement already satisfied: MarkupSafe>=2.0 in /usr/local/lib/python3.10/dist-packages (from jinja2->spacy<3.8.0,>=3.7.2->en-core-web-lg==3.7.1) (2.1.5)\n",
      "Requirement already satisfied: marisa-trie>=0.7.7 in /usr/local/lib/python3.10/dist-packages (from language-data>=1.2->langcodes<4.0.0,>=3.2.0->spacy<3.8.0,>=3.7.2->en-core-web-lg==3.7.1) (1.2.0)\n",
      "Requirement already satisfied: markdown-it-py>=2.2.0 in /usr/local/lib/python3.10/dist-packages (from rich>=10.11.0->typer<1.0.0,>=0.3.0->spacy<3.8.0,>=3.7.2->en-core-web-lg==3.7.1) (3.0.0)\n",
      "Requirement already satisfied: pygments<3.0.0,>=2.13.0 in /usr/local/lib/python3.10/dist-packages (from rich>=10.11.0->typer<1.0.0,>=0.3.0->spacy<3.8.0,>=3.7.2->en-core-web-lg==3.7.1) (2.18.0)\n",
      "Requirement already satisfied: wrapt in /usr/local/lib/python3.10/dist-packages (from smart-open<8.0.0,>=5.2.1->weasel<0.5.0,>=0.1.0->spacy<3.8.0,>=3.7.2->en-core-web-lg==3.7.1) (1.16.0)\n",
      "Requirement already satisfied: mdurl~=0.1 in /usr/local/lib/python3.10/dist-packages (from markdown-it-py>=2.2.0->rich>=10.11.0->typer<1.0.0,>=0.3.0->spacy<3.8.0,>=3.7.2->en-core-web-lg==3.7.1) (0.1.2)\n",
      "Installing collected packages: en-core-web-lg\n",
      "Successfully installed en-core-web-lg-3.7.1\n",
      "\u001b[38;5;2m✔ Download and installation successful\u001b[0m\n",
      "You can now load the package via spacy.load('en_core_web_lg')\n",
      "\u001b[38;5;3m⚠ Restart to reload dependencies\u001b[0m\n",
      "If you are in a Jupyter or Colab notebook, you may need to restart Python in\n",
      "order to load all the package's dependencies. You can do this by selecting the\n",
      "'Restart kernel' or 'Restart runtime' option.\n"
     ]
    }
   ],
   "source": [
    "import pandas as pd\n",
    "import numpy as np\n",
    "import matplotlib.pyplot as plt\n",
    "import seaborn as sns\n",
    "import spacy\n",
    "!python -m spacy download en_core_web_lg\n"
   ]
  },
  {
   "cell_type": "code",
   "execution_count": 3,
   "metadata": {
    "execution": {
     "iopub.execute_input": "2025-01-04T14:55:27.560847Z",
     "iopub.status.busy": "2025-01-04T14:55:27.559418Z",
     "iopub.status.idle": "2025-01-04T14:55:27.928848Z",
     "shell.execute_reply": "2025-01-04T14:55:27.927235Z",
     "shell.execute_reply.started": "2025-01-04T14:55:27.560784Z"
    }
   },
   "outputs": [],
   "source": [
    "data=pd.read_csv(r'/kaggle/input/ecommerce/data.csv')"
   ]
  },
  {
   "cell_type": "code",
   "execution_count": 126,
   "metadata": {
    "execution": {
     "iopub.execute_input": "2025-01-04T16:50:11.795282Z",
     "iopub.status.busy": "2025-01-04T16:50:11.794862Z",
     "iopub.status.idle": "2025-01-04T16:50:11.818159Z",
     "shell.execute_reply": "2025-01-04T16:50:11.815862Z",
     "shell.execute_reply.started": "2025-01-04T16:50:11.795248Z"
    }
   },
   "outputs": [
    {
     "name": "stdout",
     "output_type": "stream",
     "text": [
      "<class 'pandas.core.frame.DataFrame'>\n",
      "RangeIndex: 19662 entries, 0 to 19661\n",
      "Data columns (total 12 columns):\n",
      " #   Column          Non-Null Count  Dtype \n",
      "---  ------          --------------  ----- \n",
      " 0   Product_ID      19662 non-null  int64 \n",
      " 1   Category        19662 non-null  object\n",
      " 2   Subcategory1    19662 non-null  object\n",
      " 3   SubCategory2    19662 non-null  object\n",
      " 4   Location        19662 non-null  object\n",
      " 5   Channel         19662 non-null  object\n",
      " 6   Customer_Age    19662 non-null  int64 \n",
      " 7   Review_Title    19662 non-null  object\n",
      " 8   Review_Text     19662 non-null  object\n",
      " 9   Rating          19662 non-null  int64 \n",
      " 10  Recommend_Flag  19662 non-null  int64 \n",
      " 11  sentiment       19662 non-null  object\n",
      "dtypes: int64(4), object(8)\n",
      "memory usage: 1.8+ MB\n"
     ]
    }
   ],
   "source": [
    "data.info()"
   ]
  },
  {
   "cell_type": "code",
   "execution_count": 5,
   "metadata": {
    "execution": {
     "iopub.execute_input": "2025-01-04T14:55:27.987914Z",
     "iopub.status.busy": "2025-01-04T14:55:27.987435Z",
     "iopub.status.idle": "2025-01-04T14:55:27.999252Z",
     "shell.execute_reply": "2025-01-04T14:55:27.998145Z",
     "shell.execute_reply.started": "2025-01-04T14:55:27.987850Z"
    }
   },
   "outputs": [
    {
     "data": {
      "text/plain": [
       "'This shirt is very flattering to all due to the adjustable front tie. it is the perfect length to wear with leggings and it is sleeveless so it pairs well with any cardigan. love this shirt!!!'"
      ]
     },
     "execution_count": 5,
     "metadata": {},
     "output_type": "execute_result"
    }
   ],
   "source": [
    "data.Review_Text.values[2]"
   ]
  },
  {
   "cell_type": "code",
   "execution_count": 29,
   "metadata": {
    "execution": {
     "iopub.execute_input": "2025-01-10T09:13:51.027722Z",
     "iopub.status.busy": "2025-01-10T09:13:51.027291Z",
     "iopub.status.idle": "2025-01-10T09:13:51.044804Z",
     "shell.execute_reply": "2025-01-10T09:13:51.043875Z",
     "shell.execute_reply.started": "2025-01-10T09:13:51.027690Z"
    }
   },
   "outputs": [],
   "source": [
    "data.dropna(inplace=True)"
   ]
  },
  {
   "cell_type": "code",
   "execution_count": 7,
   "metadata": {
    "execution": {
     "iopub.execute_input": "2025-01-04T14:55:28.040286Z",
     "iopub.status.busy": "2025-01-04T14:55:28.039849Z",
     "iopub.status.idle": "2025-01-04T14:55:28.074402Z",
     "shell.execute_reply": "2025-01-04T14:55:28.073317Z",
     "shell.execute_reply.started": "2025-01-04T14:55:28.040246Z"
    }
   },
   "outputs": [
    {
     "name": "stdout",
     "output_type": "stream",
     "text": [
      "    Rating Subcategory1  Product_ID\n",
      "28       5         Tops        4719\n",
      "\n",
      "   Rating Subcategory1  Product_ID\n",
      "4       1         Tops         310\n"
     ]
    }
   ],
   "source": [
    "#Finding the highest rated product and lowest one\n",
    "highest=pd.DataFrame(data.groupby(['Rating','Subcategory1'])['Product_ID'].count()).reset_index()\n",
    "\n",
    "highest_rate=highest[highest['Rating']==5].sort_values(by='Product_ID',ascending=False).head(1)\n",
    "\n",
    "lowest=pd.DataFrame(data.groupby(['Rating','Subcategory1'])['Product_ID'].count()).reset_index()\n",
    "\n",
    "#lowest most rated product\n",
    "lowest_rate=highest[highest['Rating']==1].sort_values(by='Product_ID',ascending=False).head(1)\n",
    "\n",
    "print(highest_rate)\n",
    "\n",
    "print(\n",
    "    \n",
    ")\n",
    "print(lowest_rate)"
   ]
  },
  {
   "cell_type": "code",
   "execution_count": 8,
   "metadata": {
    "execution": {
     "iopub.execute_input": "2025-01-04T14:55:28.075971Z",
     "iopub.status.busy": "2025-01-04T14:55:28.075506Z",
     "iopub.status.idle": "2025-01-04T14:55:28.088521Z",
     "shell.execute_reply": "2025-01-04T14:55:28.087299Z",
     "shell.execute_reply.started": "2025-01-04T14:55:28.075920Z"
    }
   },
   "outputs": [],
   "source": [
    "#most recomended product subcategory2\n",
    "recommendation=pd.DataFrame(data[data.Recommend_Flag==1].groupby('SubCategory2')['Recommend_Flag'].count()).reset_index().sort_values(by='Recommend_Flag',ascending=False).head(6)"
   ]
  },
  {
   "cell_type": "code",
   "execution_count": 9,
   "metadata": {
    "execution": {
     "iopub.execute_input": "2025-01-04T14:55:28.091782Z",
     "iopub.status.busy": "2025-01-04T14:55:28.091417Z",
     "iopub.status.idle": "2025-01-04T14:55:28.577482Z",
     "shell.execute_reply": "2025-01-04T14:55:28.575395Z",
     "shell.execute_reply.started": "2025-01-04T14:55:28.091748Z"
    }
   },
   "outputs": [
    {
     "data": {
      "text/plain": [
       "<BarContainer object of 6 artists>"
      ]
     },
     "execution_count": 9,
     "metadata": {},
     "output_type": "execute_result"
    },
    {
     "data": {
      "image/png": "[encoded data removed]",
      "text/plain": [
       "<Figure size 640x480 with 1 Axes>"
      ]
     },
     "metadata": {},
     "output_type": "display_data"
    }
   ],
   "source": [
    "#top 6 most recomended products\n",
    "plt.Figure(figsize=(15,9))\n",
    "plt.bar(recommendation.SubCategory2,recommendation.Recommend_Flag)"
   ]
  },
  {
   "cell_type": "markdown",
   "metadata": {},
   "source": [
    "### partition of the ratings by positive and negative reviwes"
   ]
  },
  {
   "cell_type": "code",
   "execution_count": 4,
   "metadata": {
    "execution": {
     "iopub.execute_input": "2025-01-07T07:34:11.012968Z",
     "iopub.status.busy": "2025-01-07T07:34:11.012492Z",
     "iopub.status.idle": "2025-01-07T07:34:13.916245Z",
     "shell.execute_reply": "2025-01-07T07:34:13.915020Z",
     "shell.execute_reply.started": "2025-01-07T07:34:11.012915Z"
    }
   },
   "outputs": [],
   "source": [
    "nlp = spacy.load(\"en_core_web_lg\")"
   ]
  },
  {
   "cell_type": "markdown",
   "metadata": {},
   "source": []
  },
  {
   "cell_type": "code",
   "execution_count": 5,
   "metadata": {
    "execution": {
     "iopub.execute_input": "2025-01-07T07:34:20.218076Z",
     "iopub.status.busy": "2025-01-07T07:34:20.217710Z",
     "iopub.status.idle": "2025-01-07T07:34:20.223642Z",
     "shell.execute_reply": "2025-01-07T07:34:20.222468Z",
     "shell.execute_reply.started": "2025-01-07T07:34:20.218042Z"
    }
   },
   "outputs": [],
   "source": [
    "#creating the function that tokenize and lemmatise the words and remove the stop words\n",
    "def clean_text( text):\n",
    "    doc = nlp(text)\n",
    "    clean_text = ''\n",
    "    for i in doc:\n",
    "        if not i.is_stop and not i.is_punct and not i.is_space:\n",
    "            clean_text+=i.lemma_+' '\n",
    "    clean_text=clean_text.strip()\n",
    "    return clean_text"
   ]
  },
  {
   "cell_type": "code",
   "execution_count": null,
   "metadata": {},
   "outputs": [],
   "source": [
    "data['Review_Text']=data.Review_Text.apply(clean_text)"
   ]
  },
  {
   "cell_type": "code",
   "execution_count": null,
   "metadata": {
    "execution": {
     "iopub.status.busy": "2025-01-04T14:56:36.778727Z",
     "iopub.status.idle": "2025-01-04T14:56:36.779163Z",
     "shell.execute_reply": "2025-01-04T14:56:36.779002Z"
    }
   },
   "outputs": [],
   "source": [
    "Review_Title=data['Review_Title'].apply(clean_text)"
   ]
  },
  {
   "cell_type": "code",
   "execution_count": null,
   "metadata": {
    "execution": {
     "iopub.status.busy": "2025-01-04T14:56:36.780336Z",
     "iopub.status.idle": "2025-01-04T14:56:36.780923Z",
     "shell.execute_reply": "2025-01-04T14:56:36.780617Z"
    }
   },
   "outputs": [],
   "source": [
    "data['Review_Title']=Review_Title"
   ]
  },
  {
   "cell_type": "code",
   "execution_count": 13,
   "metadata": {
    "execution": {
     "iopub.execute_input": "2025-01-04T14:56:58.220070Z",
     "iopub.status.busy": "2025-01-04T14:56:58.219648Z",
     "iopub.status.idle": "2025-01-04T14:56:58.228385Z",
     "shell.execute_reply": "2025-01-04T14:56:58.226904Z",
     "shell.execute_reply.started": "2025-01-04T14:56:58.220036Z"
    }
   },
   "outputs": [
    {
     "data": {
      "text/plain": [
       "'This shirt is very flattering to all due to the adjustable front tie. it is the perfect length to wear with leggings and it is sleeveless so it pairs well with any cardigan. love this shirt!!!'"
      ]
     },
     "execution_count": 13,
     "metadata": {},
     "output_type": "execute_result"
    }
   ],
   "source": [
    "data.Review_Text[2]"
   ]
  },
  {
   "cell_type": "code",
   "execution_count": 23,
   "metadata": {
    "execution": {
     "iopub.execute_input": "2025-01-04T15:06:24.836439Z",
     "iopub.status.busy": "2025-01-04T15:06:24.835998Z",
     "iopub.status.idle": "2025-01-04T15:06:24.855604Z",
     "shell.execute_reply": "2025-01-04T15:06:24.854493Z",
     "shell.execute_reply.started": "2025-01-04T15:06:24.836393Z"
    }
   },
   "outputs": [
    {
     "data": {
      "text/plain": [
       "'love tracy reese dress petite 5 foot tall usually wear 0p brand dress pretty package lot dress skirt long overwhelm small frame stranger alteration shorten narrow skirt away embellishment garment love color idea style work return dress'"
      ]
     },
     "execution_count": 23,
     "metadata": {},
     "output_type": "execute_result"
    }
   ],
   "source": [
    "data.Review_Text[3]"
   ]
  },
  {
   "cell_type": "code",
   "execution_count": 260,
   "metadata": {
    "execution": {
     "iopub.execute_input": "2025-01-10T12:13:09.902745Z",
     "iopub.status.busy": "2025-01-10T12:13:09.902356Z",
     "iopub.status.idle": "2025-01-10T12:13:22.810224Z",
     "shell.execute_reply": "2025-01-10T12:13:22.809234Z",
     "shell.execute_reply.started": "2025-01-10T12:13:09.902710Z"
    }
   },
   "outputs": [],
   "source": [
    "#importing the transformers module\n",
    "from transformers import pipeline\n",
    "import warnings\n",
    "warnings.filterwarnings('ignore')"
   ]
  },
  {
   "cell_type": "code",
   "execution_count": 261,
   "metadata": {
    "execution": {
     "iopub.execute_input": "2025-01-10T12:13:22.812404Z",
     "iopub.status.busy": "2025-01-10T12:13:22.811543Z",
     "iopub.status.idle": "2025-01-10T12:13:29.613954Z",
     "shell.execute_reply": "2025-01-10T12:13:29.612630Z",
     "shell.execute_reply.started": "2025-01-10T12:13:22.812363Z"
    }
   },
   "outputs": [
    {
     "name": "stderr",
     "output_type": "stream",
     "text": [
      "No model was supplied, defaulted to distilbert/distilbert-base-uncased-finetuned-sst-2-english and revision af0f99b (https://huggingface.co/distilbert/distilbert-base-uncased-finetuned-sst-2-english).\n",
      "Using a pipeline without specifying a model name and revision in production is not recommended.\n"
     ]
    },
    {
     "data": {
      "application/vnd.jupyter.widget-view+json": {
       "model_id": "518d3f63a72549a28de09b63a61473a6",
       "version_major": 2,
       "version_minor": 0
      },
      "text/plain": [
       "config.json:   0%|          | 0.00/629 [00:00<?, ?B/s]"
      ]
     },
     "metadata": {},
     "output_type": "display_data"
    },
    {
     "data": {
      "application/vnd.jupyter.widget-view+json": {
       "model_id": "b65878f76e1a4017886aacd5adcffd3b",
       "version_major": 2,
       "version_minor": 0
      },
      "text/plain": [
       "model.safetensors:   0%|          | 0.00/268M [00:00<?, ?B/s]"
      ]
     },
     "metadata": {},
     "output_type": "display_data"
    },
    {
     "data": {
      "application/vnd.jupyter.widget-view+json": {
       "model_id": "38a840098f5845dfa80b7e768f53a0dd",
       "version_major": 2,
       "version_minor": 0
      },
      "text/plain": [
       "tokenizer_config.json:   0%|          | 0.00/48.0 [00:00<?, ?B/s]"
      ]
     },
     "metadata": {},
     "output_type": "display_data"
    },
    {
     "data": {
      "application/vnd.jupyter.widget-view+json": {
       "model_id": "3c615e1c19ad4d31baa9210f5c73f609",
       "version_major": 2,
       "version_minor": 0
      },
      "text/plain": [
       "vocab.txt:   0%|          | 0.00/232k [00:00<?, ?B/s]"
      ]
     },
     "metadata": {},
     "output_type": "display_data"
    }
   ],
   "source": [
    "sentiment=pipeline(\"sentiment-analysis\")"
   ]
  },
  {
   "cell_type": "code",
   "execution_count": 262,
   "metadata": {
    "execution": {
     "iopub.execute_input": "2025-01-10T12:13:40.468648Z",
     "iopub.status.busy": "2025-01-10T12:13:40.468288Z",
     "iopub.status.idle": "2025-01-10T12:28:58.348406Z",
     "shell.execute_reply": "2025-01-10T12:28:58.346734Z",
     "shell.execute_reply.started": "2025-01-10T12:13:40.468618Z"
    }
   },
   "outputs": [],
   "source": [
    "type_of_sentiment=[]\n",
    "for i in range(0,19661):\n",
    "    type_of_sentiment.append(sentiment(data.Review_Text[i])[0]['label'])"
   ]
  },
  {
   "cell_type": "code",
   "execution_count": 100,
   "metadata": {
    "execution": {
     "iopub.execute_input": "2025-01-04T16:11:05.046719Z",
     "iopub.status.busy": "2025-01-04T16:11:05.046366Z",
     "iopub.status.idle": "2025-01-04T16:11:05.053291Z",
     "shell.execute_reply": "2025-01-04T16:11:05.052063Z",
     "shell.execute_reply.started": "2025-01-04T16:11:05.046690Z"
    }
   },
   "outputs": [],
   "source": [
    "data['sentiment']=type_of_sentiment"
   ]
  },
  {
   "cell_type": "code",
   "execution_count": 103,
   "metadata": {
    "execution": {
     "iopub.execute_input": "2025-01-04T16:15:48.967332Z",
     "iopub.status.busy": "2025-01-04T16:15:48.966938Z",
     "iopub.status.idle": "2025-01-04T16:15:48.981427Z",
     "shell.execute_reply": "2025-01-04T16:15:48.980257Z",
     "shell.execute_reply.started": "2025-01-04T16:15:48.967302Z"
    }
   },
   "outputs": [],
   "source": [
    "#partioning the data reviews into positive and negative sentiments\n",
    "postive_sentiment=data[data['sentiment']=='POSITIVE']\n",
    "negative_sentiment=data[data['sentiment']=='NEGATIVE']"
   ]
  },
  {
   "cell_type": "code",
   "execution_count": null,
   "metadata": {},
   "outputs": [],
   "source": [
    "#creating the world cloud for positive and negative reviews"
   ]
  },
  {
   "cell_type": "code",
   "execution_count": 204,
   "metadata": {
    "execution": {
     "iopub.execute_input": "2025-01-10T11:41:27.136934Z",
     "iopub.status.busy": "2025-01-10T11:41:27.136504Z",
     "iopub.status.idle": "2025-01-10T11:41:27.178129Z",
     "shell.execute_reply": "2025-01-10T11:41:27.176983Z",
     "shell.execute_reply.started": "2025-01-10T11:41:27.136890Z"
    }
   },
   "outputs": [],
   "source": [
    "#creating the world cloud \n",
    "positive_words=''\n",
    "for i in positive_sentiment.Review_Text:\n",
    "    i=str(i)\n",
    "    i=i.split()\n",
    "    positive_words+=' '.join(i)+' '"
   ]
  },
  {
   "cell_type": "code",
   "execution_count": 205,
   "metadata": {
    "execution": {
     "iopub.execute_input": "2025-01-10T11:41:27.501589Z",
     "iopub.status.busy": "2025-01-10T11:41:27.501241Z",
     "iopub.status.idle": "2025-01-10T11:41:27.529049Z",
     "shell.execute_reply": "2025-01-10T11:41:27.527894Z",
     "shell.execute_reply.started": "2025-01-10T11:41:27.501563Z"
    }
   },
   "outputs": [],
   "source": [
    "negative_words=''\n",
    "for i in negative_sentiment.Review_Text:\n",
    "    i=str(i)\n",
    "    i=i.split()\n",
    "    negative_words+=' '.join(i)+' '"
   ]
  },
  {
   "cell_type": "code",
   "execution_count": 264,
   "metadata": {
    "execution": {
     "iopub.execute_input": "2025-01-10T12:28:58.428994Z",
     "iopub.status.busy": "2025-01-10T12:28:58.428570Z",
     "iopub.status.idle": "2025-01-10T12:28:58.433400Z",
     "shell.execute_reply": "2025-01-10T12:28:58.432163Z",
     "shell.execute_reply.started": "2025-01-10T12:28:58.428965Z"
    }
   },
   "outputs": [],
   "source": [
    "from wordcloud import WordCloud\n",
    "from collections import Counter"
   ]
  },
  {
   "cell_type": "code",
   "execution_count": null,
   "metadata": {
    "execution": {
     "iopub.status.busy": "2025-01-10T12:28:58.830742Z",
     "iopub.status.idle": "2025-01-10T12:28:58.831117Z",
     "shell.execute_reply": "2025-01-10T12:28:58.830980Z"
    }
   },
   "outputs": [],
   "source": [
    "ng=[words for words in negative_sentiment.Review_Text.str.split()]\n",
    "ps=[token for token in positive_sentiment.Review_Text.str.split()]"
   ]
  },
  {
   "cell_type": "code",
   "execution_count": 265,
   "metadata": {
    "execution": {
     "iopub.execute_input": "2025-01-10T12:28:58.435013Z",
     "iopub.status.busy": "2025-01-10T12:28:58.434631Z",
     "iopub.status.idle": "2025-01-10T12:28:58.477449Z",
     "shell.execute_reply": "2025-01-10T12:28:58.476361Z",
     "shell.execute_reply.started": "2025-01-10T12:28:58.434986Z"
    }
   },
   "outputs": [],
   "source": [
    "fng=[i for j in ng for i in j]\n",
    "fps=[x for y in ps for x in y]"
   ]
  },
  {
   "cell_type": "code",
   "execution_count": 267,
   "metadata": {
    "execution": {
     "iopub.execute_input": "2025-01-10T12:30:00.658309Z",
     "iopub.status.busy": "2025-01-10T12:30:00.657893Z",
     "iopub.status.idle": "2025-01-10T12:30:00.709009Z",
     "shell.execute_reply": "2025-01-10T12:30:00.707615Z",
     "shell.execute_reply.started": "2025-01-10T12:30:00.658278Z"
    }
   },
   "outputs": [],
   "source": [
    "negative_wrd_count=Counter(fng)\n",
    "positive_wrd_count=Counter(fps)"
   ]
  },
  {
   "cell_type": "code",
   "execution_count": 278,
   "metadata": {
    "execution": {
     "iopub.execute_input": "2025-01-10T12:33:30.398105Z",
     "iopub.status.busy": "2025-01-10T12:33:30.397641Z",
     "iopub.status.idle": "2025-01-10T12:33:30.408170Z",
     "shell.execute_reply": "2025-01-10T12:33:30.406990Z",
     "shell.execute_reply.started": "2025-01-10T12:33:30.398070Z"
    }
   },
   "outputs": [],
   "source": [
    "positive_wrd_count=positive_wrd_count.most_common(10)\n",
    "negative_wrd_count=negative_wrd_count.most_common(10)"
   ]
  },
  {
   "cell_type": "code",
   "execution_count": 212,
   "metadata": {
    "execution": {
     "iopub.execute_input": "2025-01-10T11:41:47.252835Z",
     "iopub.status.busy": "2025-01-10T11:41:47.252461Z",
     "iopub.status.idle": "2025-01-10T11:41:47.257878Z",
     "shell.execute_reply": "2025-01-10T11:41:47.256405Z",
     "shell.execute_reply.started": "2025-01-10T11:41:47.252806Z"
    }
   },
   "outputs": [],
   "source": [
    "p_words,p_count=zip(*positive_wrd_count)\n",
    "n_words,n_count=zip(*negative_wrd_count)"
   ]
  },
  {
   "cell_type": "markdown",
   "metadata": {},
   "source": []
  },
  {
   "cell_type": "code",
   "execution_count": 213,
   "metadata": {
    "execution": {
     "iopub.execute_input": "2025-01-10T11:41:48.082040Z",
     "iopub.status.busy": "2025-01-10T11:41:48.081630Z",
     "iopub.status.idle": "2025-01-10T11:41:48.983558Z",
     "shell.execute_reply": "2025-01-10T11:41:48.982469Z",
     "shell.execute_reply.started": "2025-01-10T11:41:48.082008Z"
    }
   },
   "outputs": [],
   "source": [
    "#visualising the words clouds \n",
    "pstv_wc=WordCloud(width = 800,height = 800).generate(str(p_words))\n",
    "negt_wc=WordCloud(width = 800,height = 800).generate(str(n_words))\n"
   ]
  },
  {
   "cell_type": "markdown",
   "metadata": {},
   "source": [
    "The most of the postive sentiments were coming with the praise of loving and appreciating the quality and appeal of the clothes\n",
    "\n",
    "Whereas, most of the negative sentiments are about the sizes. The clothes were not fitting as they wished and it is not upto thier satisfaction."
   ]
  },
  {
   "cell_type": "markdown",
   "metadata": {},
   "source": [
    " Understand sentiment among the customers on the different categories, sub categories, \n",
    "products by location and age group\n"
   ]
  },
  {
   "cell_type": "code",
   "execution_count": 50,
   "metadata": {
    "execution": {
     "iopub.execute_input": "2025-01-07T08:31:16.914556Z",
     "iopub.status.busy": "2025-01-07T08:31:16.914013Z",
     "iopub.status.idle": "2025-01-07T08:31:16.921988Z",
     "shell.execute_reply": "2025-01-07T08:31:16.920799Z",
     "shell.execute_reply.started": "2025-01-07T08:31:16.914508Z"
    }
   },
   "outputs": [],
   "source": [
    "data=pd.concat([positive_sentiment,negative_sentiment])"
   ]
  },
  {
   "cell_type": "code",
   "execution_count": 177,
   "metadata": {
    "execution": {
     "iopub.execute_input": "2025-01-10T11:25:00.268769Z",
     "iopub.status.busy": "2025-01-10T11:25:00.268385Z",
     "iopub.status.idle": "2025-01-10T11:25:00.295099Z",
     "shell.execute_reply": "2025-01-10T11:25:00.294014Z",
     "shell.execute_reply.started": "2025-01-10T11:25:00.268722Z"
    }
   },
   "outputs": [
    {
     "data": {
      "text/html": [
       "<div>\n",
       "<style scoped>\n",
       "    .dataframe tbody tr th:only-of-type {\n",
       "        vertical-align: middle;\n",
       "    }\n",
       "\n",
       "    .dataframe tbody tr th {\n",
       "        vertical-align: top;\n",
       "    }\n",
       "\n",
       "    .dataframe thead th {\n",
       "        text-align: right;\n",
       "    }\n",
       "</style>\n",
       "<table border=\"1\" class=\"dataframe\">\n",
       "  <thead>\n",
       "    <tr style=\"text-align: right;\">\n",
       "      <th>sentiment</th>\n",
       "      <th>NEGATIVE</th>\n",
       "      <th>POSITIVE</th>\n",
       "    </tr>\n",
       "    <tr>\n",
       "      <th>Location</th>\n",
       "      <th></th>\n",
       "      <th></th>\n",
       "    </tr>\n",
       "  </thead>\n",
       "  <tbody>\n",
       "    <tr>\n",
       "      <th>Bangalore</th>\n",
       "      <td>1476</td>\n",
       "      <td>2929</td>\n",
       "    </tr>\n",
       "    <tr>\n",
       "      <th>Chennai</th>\n",
       "      <td>645</td>\n",
       "      <td>1314</td>\n",
       "    </tr>\n",
       "    <tr>\n",
       "      <th>Gurgaon</th>\n",
       "      <td>2421</td>\n",
       "      <td>4940</td>\n",
       "    </tr>\n",
       "    <tr>\n",
       "      <th>Mumbai</th>\n",
       "      <td>2008</td>\n",
       "      <td>3929</td>\n",
       "    </tr>\n",
       "  </tbody>\n",
       "</table>\n",
       "</div>"
      ],
      "text/plain": [
       "sentiment  NEGATIVE  POSITIVE\n",
       "Location                     \n",
       "Bangalore      1476      2929\n",
       "Chennai         645      1314\n",
       "Gurgaon        2421      4940\n",
       "Mumbai         2008      3929"
      ]
     },
     "execution_count": 177,
     "metadata": {},
     "output_type": "execute_result"
    }
   ],
   "source": [
    "#Finding the response to the category of the products by the customers by Location\n",
    "sentiment_by_loc=pd.DataFrame(data.groupby(['Location','sentiment'])['Category'].count())\n",
    "sentiment_by_loc=data.pivot_table(index='Location', columns='sentiment', values='Category', aggfunc='count')\n",
    "#The most of the response to the overall products are positive with majority of the consumers\n",
    "#are giving postive remarks. We should provide better services to the customers of the \n",
    "#Mumbai and Gurgaon\n",
    "sentiment_by_loc"
   ]
  },
  {
   "cell_type": "code",
   "execution_count": 70,
   "metadata": {
    "execution": {
     "iopub.execute_input": "2025-01-07T08:55:34.314831Z",
     "iopub.status.busy": "2025-01-07T08:55:34.314466Z",
     "iopub.status.idle": "2025-01-07T08:55:34.326085Z",
     "shell.execute_reply": "2025-01-07T08:55:34.325041Z",
     "shell.execute_reply.started": "2025-01-07T08:55:34.314799Z"
    }
   },
   "outputs": [],
   "source": [
    "#understanding the response given to the categories of the product by different age groups\n",
    "\n",
    "#creating the age group\n",
    "data['demography']=np.where((data.Customer_Age>30) & (data.Customer_Age<51),'30-50',\n",
    "np.where((data.Customer_Age>50) & (data.Customer_Age<76),'50-75',\n",
    "        np.where(data.Customer_Age<75,'>75','<30')))"
   ]
  },
  {
   "cell_type": "code",
   "execution_count": 180,
   "metadata": {
    "execution": {
     "iopub.execute_input": "2025-01-10T11:29:48.363700Z",
     "iopub.status.busy": "2025-01-10T11:29:48.363130Z",
     "iopub.status.idle": "2025-01-10T11:29:48.388119Z",
     "shell.execute_reply": "2025-01-10T11:29:48.386955Z",
     "shell.execute_reply.started": "2025-01-10T11:29:48.363638Z"
    }
   },
   "outputs": [
    {
     "data": {
      "text/html": [
       "<div>\n",
       "<style scoped>\n",
       "    .dataframe tbody tr th:only-of-type {\n",
       "        vertical-align: middle;\n",
       "    }\n",
       "\n",
       "    .dataframe tbody tr th {\n",
       "        vertical-align: top;\n",
       "    }\n",
       "\n",
       "    .dataframe thead th {\n",
       "        text-align: right;\n",
       "    }\n",
       "</style>\n",
       "<table border=\"1\" class=\"dataframe\">\n",
       "  <thead>\n",
       "    <tr style=\"text-align: right;\">\n",
       "      <th>sentiment</th>\n",
       "      <th>NEGATIVE</th>\n",
       "      <th>POSITIVE</th>\n",
       "    </tr>\n",
       "    <tr>\n",
       "      <th>demography</th>\n",
       "      <th></th>\n",
       "      <th></th>\n",
       "    </tr>\n",
       "  </thead>\n",
       "  <tbody>\n",
       "    <tr>\n",
       "      <th>30-50</th>\n",
       "      <td>3926</td>\n",
       "      <td>7618</td>\n",
       "    </tr>\n",
       "    <tr>\n",
       "      <th>50-75</th>\n",
       "      <td>1673</td>\n",
       "      <td>3495</td>\n",
       "    </tr>\n",
       "    <tr>\n",
       "      <th>&lt;30</th>\n",
       "      <td>32</td>\n",
       "      <td>112</td>\n",
       "    </tr>\n",
       "    <tr>\n",
       "      <th>&gt;75</th>\n",
       "      <td>919</td>\n",
       "      <td>1887</td>\n",
       "    </tr>\n",
       "  </tbody>\n",
       "</table>\n",
       "</div>"
      ],
      "text/plain": [
       "sentiment   NEGATIVE  POSITIVE\n",
       "demography                    \n",
       "30-50           3926      7618\n",
       "50-75           1673      3495\n",
       "<30               32       112\n",
       ">75              919      1887"
      ]
     },
     "execution_count": 180,
     "metadata": {},
     "output_type": "execute_result"
    }
   ],
   "source": [
    "sentiment_by_demography=data.pivot_table(index='demography',columns='sentiment',values='Category',aggfunc=('count'))\n",
    "sentiment_by_demography"
   ]
  },
  {
   "cell_type": "markdown",
   "metadata": {},
   "source": [
    "The products are more reviwed by the customers who are age of around 30-75 than the rest of the demography. People of the said demographies has the mixed feelings on the category of the products. Hence, we should focus on providing the satisfactory goods and services to these."
   ]
  },
  {
   "cell_type": "code",
   "execution_count": 244,
   "metadata": {
    "execution": {
     "iopub.execute_input": "2025-01-10T12:03:01.914026Z",
     "iopub.status.busy": "2025-01-10T12:03:01.913602Z",
     "iopub.status.idle": "2025-01-10T12:03:01.934139Z",
     "shell.execute_reply": "2025-01-10T12:03:01.933134Z",
     "shell.execute_reply.started": "2025-01-10T12:03:01.913993Z"
    }
   },
   "outputs": [
    {
     "data": {
      "text/html": [
       "<div>\n",
       "<style scoped>\n",
       "    .dataframe tbody tr th:only-of-type {\n",
       "        vertical-align: middle;\n",
       "    }\n",
       "\n",
       "    .dataframe tbody tr th {\n",
       "        vertical-align: top;\n",
       "    }\n",
       "\n",
       "    .dataframe thead th {\n",
       "        text-align: right;\n",
       "    }\n",
       "</style>\n",
       "<table border=\"1\" class=\"dataframe\">\n",
       "  <thead>\n",
       "    <tr style=\"text-align: right;\">\n",
       "      <th>sentiment</th>\n",
       "      <th>NEGATIVE</th>\n",
       "      <th>POSITIVE</th>\n",
       "    </tr>\n",
       "    <tr>\n",
       "      <th>SubCategory2</th>\n",
       "      <th></th>\n",
       "      <th></th>\n",
       "    </tr>\n",
       "  </thead>\n",
       "  <tbody>\n",
       "    <tr>\n",
       "      <th>Blouses</th>\n",
       "      <td>900.0</td>\n",
       "      <td>1687.0</td>\n",
       "    </tr>\n",
       "    <tr>\n",
       "      <th>Dresses</th>\n",
       "      <td>1758.0</td>\n",
       "      <td>3613.0</td>\n",
       "    </tr>\n",
       "    <tr>\n",
       "      <th>Fine gauge</th>\n",
       "      <td>303.0</td>\n",
       "      <td>624.0</td>\n",
       "    </tr>\n",
       "    <tr>\n",
       "      <th>Intimates</th>\n",
       "      <td>33.0</td>\n",
       "      <td>87.0</td>\n",
       "    </tr>\n",
       "    <tr>\n",
       "      <th>Jackets</th>\n",
       "      <td>183.0</td>\n",
       "      <td>415.0</td>\n",
       "    </tr>\n",
       "    <tr>\n",
       "      <th>Jeans</th>\n",
       "      <td>373.0</td>\n",
       "      <td>597.0</td>\n",
       "    </tr>\n",
       "    <tr>\n",
       "      <th>Knits</th>\n",
       "      <td>1323.0</td>\n",
       "      <td>2658.0</td>\n",
       "    </tr>\n",
       "    <tr>\n",
       "      <th>Layering</th>\n",
       "      <td>45.0</td>\n",
       "      <td>70.0</td>\n",
       "    </tr>\n",
       "    <tr>\n",
       "      <th>Legwear</th>\n",
       "      <td>42.0</td>\n",
       "      <td>89.0</td>\n",
       "    </tr>\n",
       "    <tr>\n",
       "      <th>Lounge</th>\n",
       "      <td>187.0</td>\n",
       "      <td>387.0</td>\n",
       "    </tr>\n",
       "    <tr>\n",
       "      <th>Outerwear</th>\n",
       "      <td>97.0</td>\n",
       "      <td>184.0</td>\n",
       "    </tr>\n",
       "    <tr>\n",
       "      <th>Pants</th>\n",
       "      <td>381.0</td>\n",
       "      <td>776.0</td>\n",
       "    </tr>\n",
       "    <tr>\n",
       "      <th>Shorts</th>\n",
       "      <td>99.0</td>\n",
       "      <td>161.0</td>\n",
       "    </tr>\n",
       "    <tr>\n",
       "      <th>Skirts</th>\n",
       "      <td>222.0</td>\n",
       "      <td>574.0</td>\n",
       "    </tr>\n",
       "    <tr>\n",
       "      <th>Sleep</th>\n",
       "      <td>51.0</td>\n",
       "      <td>123.0</td>\n",
       "    </tr>\n",
       "    <tr>\n",
       "      <th>Sweaters</th>\n",
       "      <td>407.0</td>\n",
       "      <td>811.0</td>\n",
       "    </tr>\n",
       "    <tr>\n",
       "      <th>Swim</th>\n",
       "      <td>105.0</td>\n",
       "      <td>188.0</td>\n",
       "    </tr>\n",
       "    <tr>\n",
       "      <th>Trend</th>\n",
       "      <td>41.0</td>\n",
       "      <td>66.0</td>\n",
       "    </tr>\n",
       "  </tbody>\n",
       "</table>\n",
       "</div>"
      ],
      "text/plain": [
       "sentiment     NEGATIVE  POSITIVE\n",
       "SubCategory2                    \n",
       "Blouses          900.0    1687.0\n",
       "Dresses         1758.0    3613.0\n",
       "Fine gauge       303.0     624.0\n",
       "Intimates         33.0      87.0\n",
       "Jackets          183.0     415.0\n",
       "Jeans            373.0     597.0\n",
       "Knits           1323.0    2658.0\n",
       "Layering          45.0      70.0\n",
       "Legwear           42.0      89.0\n",
       "Lounge           187.0     387.0\n",
       "Outerwear         97.0     184.0\n",
       "Pants            381.0     776.0\n",
       "Shorts            99.0     161.0\n",
       "Skirts           222.0     574.0\n",
       "Sleep             51.0     123.0\n",
       "Sweaters         407.0     811.0\n",
       "Swim             105.0     188.0\n",
       "Trend             41.0      66.0"
      ]
     },
     "execution_count": 244,
     "metadata": {},
     "output_type": "execute_result"
    }
   ],
   "source": [
    "#looking at the sentiments for the Subcategory 2\n",
    "sentiment_by_subcategory=pd.DataFrame(data.groupby(['sentiment','SubCategory2'])['SubCategory2'].count().unstack().dropna(axis=1)).T\n",
    "sentiment_by_subcategory\n"
   ]
  },
  {
   "cell_type": "code",
   "execution_count": 234,
   "metadata": {
    "execution": {
     "iopub.execute_input": "2025-01-10T11:54:26.817117Z",
     "iopub.status.busy": "2025-01-10T11:54:26.816660Z",
     "iopub.status.idle": "2025-01-10T11:54:26.838430Z",
     "shell.execute_reply": "2025-01-10T11:54:26.837327Z",
     "shell.execute_reply.started": "2025-01-10T11:54:26.817083Z"
    }
   },
   "outputs": [
    {
     "data": {
      "text/html": [
       "<div>\n",
       "<style scoped>\n",
       "    .dataframe tbody tr th:only-of-type {\n",
       "        vertical-align: middle;\n",
       "    }\n",
       "\n",
       "    .dataframe tbody tr th {\n",
       "        vertical-align: top;\n",
       "    }\n",
       "\n",
       "    .dataframe thead th {\n",
       "        text-align: right;\n",
       "    }\n",
       "</style>\n",
       "<table border=\"1\" class=\"dataframe\">\n",
       "  <thead>\n",
       "    <tr style=\"text-align: right;\">\n",
       "      <th>sentiment</th>\n",
       "      <th>NEGATIVE</th>\n",
       "      <th>POSITIVE</th>\n",
       "    </tr>\n",
       "    <tr>\n",
       "      <th>Channel</th>\n",
       "      <th></th>\n",
       "      <th></th>\n",
       "    </tr>\n",
       "  </thead>\n",
       "  <tbody>\n",
       "    <tr>\n",
       "      <th>Mobile</th>\n",
       "      <td>2665</td>\n",
       "      <td>5606</td>\n",
       "    </tr>\n",
       "    <tr>\n",
       "      <th>Web</th>\n",
       "      <td>3885</td>\n",
       "      <td>7506</td>\n",
       "    </tr>\n",
       "  </tbody>\n",
       "</table>\n",
       "</div>"
      ],
      "text/plain": [
       "sentiment  NEGATIVE  POSITIVE\n",
       "Channel                      \n",
       "Mobile         2665      5606\n",
       "Web            3885      7506"
      ]
     },
     "execution_count": 234,
     "metadata": {},
     "output_type": "execute_result"
    }
   ],
   "source": [
    "sentiment_by_channel=pd.crosstab(data.sentiment,data.Channel).T\n",
    "sentiment_by_channel"
   ]
  },
  {
   "cell_type": "code",
   "execution_count": 202,
   "metadata": {
    "execution": {
     "iopub.execute_input": "2025-01-10T11:41:07.946921Z",
     "iopub.status.busy": "2025-01-10T11:41:07.946501Z",
     "iopub.status.idle": "2025-01-10T11:41:07.958910Z",
     "shell.execute_reply": "2025-01-10T11:41:07.957509Z",
     "shell.execute_reply.started": "2025-01-10T11:41:07.946888Z"
    }
   },
   "outputs": [
    {
     "data": {
      "text/html": [
       "<div>\n",
       "<style scoped>\n",
       "    .dataframe tbody tr th:only-of-type {\n",
       "        vertical-align: middle;\n",
       "    }\n",
       "\n",
       "    .dataframe tbody tr th {\n",
       "        vertical-align: top;\n",
       "    }\n",
       "\n",
       "    .dataframe thead th {\n",
       "        text-align: right;\n",
       "    }\n",
       "</style>\n",
       "<table border=\"1\" class=\"dataframe\">\n",
       "  <thead>\n",
       "    <tr style=\"text-align: right;\">\n",
       "      <th></th>\n",
       "      <th>Category</th>\n",
       "    </tr>\n",
       "    <tr>\n",
       "      <th>sentiment</th>\n",
       "      <th></th>\n",
       "    </tr>\n",
       "  </thead>\n",
       "  <tbody>\n",
       "    <tr>\n",
       "      <th>NEGATIVE</th>\n",
       "      <td>6550</td>\n",
       "    </tr>\n",
       "    <tr>\n",
       "      <th>POSITIVE</th>\n",
       "      <td>13112</td>\n",
       "    </tr>\n",
       "  </tbody>\n",
       "</table>\n",
       "</div>"
      ],
      "text/plain": [
       "           Category\n",
       "sentiment          \n",
       "NEGATIVE       6550\n",
       "POSITIVE      13112"
      ]
     },
     "execution_count": 202,
     "metadata": {},
     "output_type": "execute_result"
    }
   ],
   "source": [
    "sentiment_by_cat=pd.DataFrame(data.groupby('sentiment')['Category'].count())\n",
    "sentiment_by_cat"
   ]
  },
  {
   "cell_type": "markdown",
   "metadata": {
    "execution": {
     "iopub.execute_input": "2025-01-07T09:03:37.599225Z",
     "iopub.status.busy": "2025-01-07T09:03:37.598842Z",
     "iopub.status.idle": "2025-01-07T09:03:37.620133Z",
     "shell.execute_reply": "2025-01-07T09:03:37.618952Z",
     "shell.execute_reply.started": "2025-01-07T09:03:37.599193Z"
    }
   },
   "source": [
    "The customers are positive over the products across diferrent locations. Mumbai and Gurgaon, where most of the reviews are concentrated on Tops and Dresses suggests that the these products are seeling well."
   ]
  },
  {
   "cell_type": "markdown",
   "metadata": {},
   "source": [
    "Perform predictive analytics to understand the drivers of customers who are recommending \n",
    "the products."
   ]
  },
  {
   "cell_type": "code",
   "execution_count": null,
   "metadata": {},
   "outputs": [],
   "source": [
    "# We need to clean the data and select only relevant data"
   ]
  },
  {
   "cell_type": "code",
   "execution_count": 114,
   "metadata": {
    "execution": {
     "iopub.execute_input": "2025-01-07T09:58:34.303114Z",
     "iopub.status.busy": "2025-01-07T09:58:34.302642Z",
     "iopub.status.idle": "2025-01-07T09:58:34.311272Z",
     "shell.execute_reply": "2025-01-07T09:58:34.310209Z",
     "shell.execute_reply.started": "2025-01-07T09:58:34.303067Z"
    }
   },
   "outputs": [],
   "source": [
    "x=data[['Category','Subcategory1','SubCategory2','Location','Channel','Customer_Age','Rating']]"
   ]
  },
  {
   "cell_type": "code",
   "execution_count": 87,
   "metadata": {
    "execution": {
     "iopub.execute_input": "2025-01-07T09:44:17.042049Z",
     "iopub.status.busy": "2025-01-07T09:44:17.041649Z",
     "iopub.status.idle": "2025-01-07T09:44:17.046770Z",
     "shell.execute_reply": "2025-01-07T09:44:17.045468Z",
     "shell.execute_reply.started": "2025-01-07T09:44:17.042015Z"
    }
   },
   "outputs": [],
   "source": [
    "y=data.Recommend_Flag"
   ]
  },
  {
   "cell_type": "code",
   "execution_count": 100,
   "metadata": {
    "execution": {
     "iopub.execute_input": "2025-01-10T10:33:13.677901Z",
     "iopub.status.busy": "2025-01-10T10:33:13.677445Z",
     "iopub.status.idle": "2025-01-10T10:33:13.902646Z",
     "shell.execute_reply": "2025-01-10T10:33:13.901643Z",
     "shell.execute_reply.started": "2025-01-10T10:33:13.677864Z"
    }
   },
   "outputs": [],
   "source": [
    "#importing the required libraries\n",
    "from sklearn.preprocessing import StandardScaler,LabelEncoder\n",
    "from sklearn.ensemble import GradientBoostingClassifier\n",
    "from sklearn.metrics import accuracy_score\n",
    "from sklearn.model_selection import train_test_split"
   ]
  },
  {
   "cell_type": "code",
   "execution_count": 115,
   "metadata": {
    "execution": {
     "iopub.execute_input": "2025-01-07T09:58:37.656802Z",
     "iopub.status.busy": "2025-01-07T09:58:37.656446Z",
     "iopub.status.idle": "2025-01-07T09:58:37.666783Z",
     "shell.execute_reply": "2025-01-07T09:58:37.665439Z",
     "shell.execute_reply.started": "2025-01-07T09:58:37.656773Z"
    }
   },
   "outputs": [],
   "source": [
    "cat_lbl=LabelEncoder()\n",
    "x.Category=cat_lbl.fit_transform(x.Category)"
   ]
  },
  {
   "cell_type": "code",
   "execution_count": 116,
   "metadata": {
    "execution": {
     "iopub.execute_input": "2025-01-07T09:58:37.777128Z",
     "iopub.status.busy": "2025-01-07T09:58:37.776747Z",
     "iopub.status.idle": "2025-01-07T09:58:37.803752Z",
     "shell.execute_reply": "2025-01-07T09:58:37.802450Z",
     "shell.execute_reply.started": "2025-01-07T09:58:37.777091Z"
    }
   },
   "outputs": [],
   "source": [
    "suba=LabelEncoder()\n",
    "x.Subcategory1=suba.fit_transform(x.Subcategory1)\n",
    "\n",
    "x.SubCategory2=suba.fit_transform(x.SubCategory2)\n",
    "\n",
    "x.Channel=suba.fit_transform(x.Channel)\n",
    "\n",
    "x.Location=suba.fit_transform(x.Location)"
   ]
  },
  {
   "cell_type": "code",
   "execution_count": 124,
   "metadata": {
    "execution": {
     "iopub.execute_input": "2025-01-07T10:01:21.343943Z",
     "iopub.status.busy": "2025-01-07T10:01:21.343509Z",
     "iopub.status.idle": "2025-01-07T10:01:21.354264Z",
     "shell.execute_reply": "2025-01-07T10:01:21.353071Z",
     "shell.execute_reply.started": "2025-01-07T10:01:21.343846Z"
    }
   },
   "outputs": [],
   "source": [
    "#splitting the dataset into training and testing data\n",
    "xtr,xte,ytr,yte=train_test_split(x,y,test_size=0.2)"
   ]
  },
  {
   "cell_type": "code",
   "execution_count": 119,
   "metadata": {
    "execution": {
     "iopub.execute_input": "2025-01-07T09:59:19.087689Z",
     "iopub.status.busy": "2025-01-07T09:59:19.087192Z",
     "iopub.status.idle": "2025-01-07T09:59:19.092665Z",
     "shell.execute_reply": "2025-01-07T09:59:19.091257Z",
     "shell.execute_reply.started": "2025-01-07T09:59:19.087646Z"
    }
   },
   "outputs": [],
   "source": [
    "gbc=GradientBoostingClassifier()"
   ]
  },
  {
   "cell_type": "code",
   "execution_count": 125,
   "metadata": {
    "execution": {
     "iopub.execute_input": "2025-01-07T10:01:28.589238Z",
     "iopub.status.busy": "2025-01-07T10:01:28.588710Z",
     "iopub.status.idle": "2025-01-07T10:01:29.562652Z",
     "shell.execute_reply": "2025-01-07T10:01:29.561466Z",
     "shell.execute_reply.started": "2025-01-07T10:01:28.589199Z"
    }
   },
   "outputs": [],
   "source": [
    "model=gbc.fit(xtr,ytr)"
   ]
  },
  {
   "cell_type": "code",
   "execution_count": 130,
   "metadata": {
    "execution": {
     "iopub.execute_input": "2025-01-07T10:02:59.168815Z",
     "iopub.status.busy": "2025-01-07T10:02:59.168339Z",
     "iopub.status.idle": "2025-01-07T10:02:59.224464Z",
     "shell.execute_reply": "2025-01-07T10:02:59.223303Z",
     "shell.execute_reply.started": "2025-01-07T10:02:59.168769Z"
    }
   },
   "outputs": [],
   "source": [
    "accuracy_test=model.predict(xte)\n",
    "accuracy_train=model.predict(xtr)"
   ]
  },
  {
   "cell_type": "code",
   "execution_count": 131,
   "metadata": {
    "execution": {
     "iopub.execute_input": "2025-01-07T10:03:47.224144Z",
     "iopub.status.busy": "2025-01-07T10:03:47.223651Z",
     "iopub.status.idle": "2025-01-07T10:03:47.232217Z",
     "shell.execute_reply": "2025-01-07T10:03:47.231059Z",
     "shell.execute_reply.started": "2025-01-07T10:03:47.224084Z"
    }
   },
   "outputs": [
    {
     "name": "stdout",
     "output_type": "stream",
     "text": [
      "The accuracy score for trainig data is 0.935163996948894\n"
     ]
    }
   ],
   "source": [
    "#finding the accuracy score for test data\n",
    "print(f'The accuracy score for testing data is {accuracy_score(yte,accuracy_test)}')"
   ]
  },
  {
   "cell_type": "code",
   "execution_count": 134,
   "metadata": {
    "execution": {
     "iopub.execute_input": "2025-01-07T10:06:32.482713Z",
     "iopub.status.busy": "2025-01-07T10:06:32.482311Z",
     "iopub.status.idle": "2025-01-07T10:06:32.491738Z",
     "shell.execute_reply": "2025-01-07T10:06:32.490301Z",
     "shell.execute_reply.started": "2025-01-07T10:06:32.482684Z"
    }
   },
   "outputs": [
    {
     "name": "stdout",
     "output_type": "stream",
     "text": [
      "The accuracy score for training data is 0.9375039735520376\n"
     ]
    }
   ],
   "source": [
    "#finding the accuracy score for training data\n",
    "print(f'The accuracy score for training data is {accuracy_score(ytr,accuracy_train)}')"
   ]
  },
  {
   "cell_type": "markdown",
   "metadata": {},
   "source": [
    "Based on the accuracy score of the both training and testing data, the model is performing very well"
   ]
  },
  {
   "cell_type": "markdown",
   "metadata": {},
   "source": [
    "#Finding the factors that are driving the customers for recommending the products to others"
   ]
  },
  {
   "cell_type": "code",
   "execution_count": 140,
   "metadata": {
    "execution": {
     "iopub.execute_input": "2025-01-07T10:12:15.868000Z",
     "iopub.status.busy": "2025-01-07T10:12:15.867528Z",
     "iopub.status.idle": "2025-01-07T10:12:15.874740Z",
     "shell.execute_reply": "2025-01-07T10:12:15.873444Z",
     "shell.execute_reply.started": "2025-01-07T10:12:15.867961Z"
    }
   },
   "outputs": [],
   "source": [
    "feature_importance=model.feature_importances_"
   ]
  },
  {
   "cell_type": "code",
   "execution_count": 143,
   "metadata": {
    "execution": {
     "iopub.execute_input": "2025-01-07T10:13:23.872849Z",
     "iopub.status.busy": "2025-01-07T10:13:23.872210Z",
     "iopub.status.idle": "2025-01-07T10:13:23.880346Z",
     "shell.execute_reply": "2025-01-07T10:13:23.879036Z",
     "shell.execute_reply.started": "2025-01-07T10:13:23.872801Z"
    }
   },
   "outputs": [
    {
     "name": "stdout",
     "output_type": "stream",
     "text": [
      "Category: 0.0002\n",
      "Subcategory1: 0.0009\n",
      "SubCategory2: 0.0010\n",
      "Location: 0.0004\n",
      "Channel: 0.0003\n",
      "Customer_Age: 0.0044\n",
      "Rating: 0.9928\n"
     ]
    }
   ],
   "source": [
    "for feature, importance in zip(x.columns, feature_importance):\n",
    "    print(f'{feature}: {importance:.4f}')"
   ]
  },
  {
   "cell_type": "markdown",
   "metadata": {},
   "source": [
    "The ratings are the key drive force for the customers to recommend the product to thier freinds and the damily"
   ]
  },
  {
   "cell_type": "code",
   "execution_count": 4,
   "metadata": {
    "execution": {
     "iopub.execute_input": "2025-01-09T14:49:22.579816Z",
     "iopub.status.busy": "2025-01-09T14:49:22.579362Z",
     "iopub.status.idle": "2025-01-09T14:49:22.584053Z",
     "shell.execute_reply": "2025-01-09T14:49:22.582938Z",
     "shell.execute_reply.started": "2025-01-09T14:49:22.579782Z"
    }
   },
   "outputs": [],
   "source": [
    "#Create topics and understand themes behind the topics by performing topic mining."
   ]
  },
  {
   "cell_type": "code",
   "execution_count": 32,
   "metadata": {
    "execution": {
     "iopub.execute_input": "2025-01-10T09:20:21.047640Z",
     "iopub.status.busy": "2025-01-10T09:20:21.047246Z",
     "iopub.status.idle": "2025-01-10T09:20:21.320129Z",
     "shell.execute_reply": "2025-01-10T09:20:21.318884Z",
     "shell.execute_reply.started": "2025-01-10T09:20:21.047599Z"
    }
   },
   "outputs": [],
   "source": [
    "from sklearn.feature_extraction.text import TfidfVectorizer\n",
    "from sklearn.decomposition import TruncatedSVD"
   ]
  },
  {
   "cell_type": "code",
   "execution_count": 13,
   "metadata": {
    "execution": {
     "iopub.execute_input": "2025-01-10T08:58:24.247777Z",
     "iopub.status.busy": "2025-01-10T08:58:24.247282Z",
     "iopub.status.idle": "2025-01-10T08:58:24.253624Z",
     "shell.execute_reply": "2025-01-10T08:58:24.251311Z",
     "shell.execute_reply.started": "2025-01-10T08:58:24.247721Z"
    }
   },
   "outputs": [],
   "source": [
    "vector=TfidfVectorizer()"
   ]
  },
  {
   "cell_type": "code",
   "execution_count": 105,
   "metadata": {
    "execution": {
     "iopub.execute_input": "2025-01-10T10:35:39.867139Z",
     "iopub.status.busy": "2025-01-10T10:35:39.866696Z",
     "iopub.status.idle": "2025-01-10T10:35:40.348428Z",
     "shell.execute_reply": "2025-01-10T10:35:40.347217Z",
     "shell.execute_reply.started": "2025-01-10T10:35:39.867103Z"
    }
   },
   "outputs": [],
   "source": [
    "model=vector.fit_transform(data.Review_Text)"
   ]
  },
  {
   "cell_type": "code",
   "execution_count": 106,
   "metadata": {
    "execution": {
     "iopub.execute_input": "2025-01-10T10:35:40.356904Z",
     "iopub.status.busy": "2025-01-10T10:35:40.356530Z",
     "iopub.status.idle": "2025-01-10T10:35:40.369953Z",
     "shell.execute_reply": "2025-01-10T10:35:40.368880Z",
     "shell.execute_reply.started": "2025-01-10T10:35:40.356872Z"
    }
   },
   "outputs": [
    {
     "name": "stdout",
     "output_type": "stream",
     "text": [
      "['00' '00p' '02' ... 'zoom' 'zuma' 'â¼ber']\n"
     ]
    }
   ],
   "source": [
    "#checking the output\n",
    "feature=vector.get_feature_names_out()\n",
    "print(feature)"
   ]
  },
  {
   "cell_type": "code",
   "execution_count": 107,
   "metadata": {
    "execution": {
     "iopub.execute_input": "2025-01-10T10:35:43.197585Z",
     "iopub.status.busy": "2025-01-10T10:35:43.197258Z",
     "iopub.status.idle": "2025-01-10T10:35:44.984574Z",
     "shell.execute_reply": "2025-01-10T10:35:44.983399Z",
     "shell.execute_reply.started": "2025-01-10T10:35:43.197559Z"
    }
   },
   "outputs": [
    {
     "name": "stdout",
     "output_type": "stream",
     "text": [
      "[[0. 0. 0. ... 0. 0. 0.]\n",
      " [0. 0. 0. ... 0. 0. 0.]\n",
      " [0. 0. 0. ... 0. 0. 0.]\n",
      " ...\n",
      " [0. 0. 0. ... 0. 0. 0.]\n",
      " [0. 0. 0. ... 0. 0. 0.]\n",
      " [0. 0. 0. ... 0. 0. 0.]]\n"
     ]
    }
   ],
   "source": [
    "#checking the vector\n",
    "tfidf_form=model.toarray()\n",
    "print(tfidf_form)"
   ]
  },
  {
   "cell_type": "code",
   "execution_count": 108,
   "metadata": {
    "execution": {
     "iopub.execute_input": "2025-01-10T10:35:45.997490Z",
     "iopub.status.busy": "2025-01-10T10:35:45.997146Z",
     "iopub.status.idle": "2025-01-10T10:35:46.002509Z",
     "shell.execute_reply": "2025-01-10T10:35:46.001353Z",
     "shell.execute_reply.started": "2025-01-10T10:35:45.997465Z"
    }
   },
   "outputs": [],
   "source": [
    "tfidf=pd.DataFrame(tfidf_form,columns=feature)"
   ]
  },
  {
   "cell_type": "code",
   "execution_count": 33,
   "metadata": {
    "execution": {
     "iopub.execute_input": "2025-01-10T09:20:26.317898Z",
     "iopub.status.busy": "2025-01-10T09:20:26.317429Z",
     "iopub.status.idle": "2025-01-10T09:20:26.322721Z",
     "shell.execute_reply": "2025-01-10T09:20:26.321575Z",
     "shell.execute_reply.started": "2025-01-10T09:20:26.317851Z"
    }
   },
   "outputs": [],
   "source": [
    "truncat=TruncatedSVD(n_components=10,n_iter=50,random_state=2)"
   ]
  },
  {
   "cell_type": "code",
   "execution_count": 35,
   "metadata": {
    "execution": {
     "iopub.execute_input": "2025-01-10T09:21:20.519029Z",
     "iopub.status.busy": "2025-01-10T09:21:20.518638Z",
     "iopub.status.idle": "2025-01-10T09:22:15.353478Z",
     "shell.execute_reply": "2025-01-10T09:22:15.352338Z",
     "shell.execute_reply.started": "2025-01-10T09:21:20.518997Z"
    }
   },
   "outputs": [],
   "source": [
    "final_truncat=truncat.fit_transform(tfidf)"
   ]
  },
  {
   "cell_type": "code",
   "execution_count": 71,
   "metadata": {
    "execution": {
     "iopub.execute_input": "2025-01-10T10:21:20.516955Z",
     "iopub.status.busy": "2025-01-10T10:21:20.516488Z",
     "iopub.status.idle": "2025-01-10T10:21:20.521395Z",
     "shell.execute_reply": "2025-01-10T10:21:20.520283Z",
     "shell.execute_reply.started": "2025-01-10T10:21:20.516924Z"
    }
   },
   "outputs": [],
   "source": [
    "\n",
    "values=truncat.components_.T\n"
   ]
  },
  {
   "cell_type": "code",
   "execution_count": 75,
   "metadata": {
    "execution": {
     "iopub.execute_input": "2025-01-10T10:23:02.978219Z",
     "iopub.status.busy": "2025-01-10T10:23:02.977838Z",
     "iopub.status.idle": "2025-01-10T10:23:02.983997Z",
     "shell.execute_reply": "2025-01-10T10:23:02.982856Z",
     "shell.execute_reply.started": "2025-01-10T10:23:02.978189Z"
    }
   },
   "outputs": [],
   "source": [
    "lsa_values=pd.DataFrame(data=values,index=feature,columns=[f'latent_{i}' for i in range(10)])"
   ]
  },
  {
   "cell_type": "code",
   "execution_count": 89,
   "metadata": {
    "execution": {
     "iopub.execute_input": "2025-01-10T10:27:02.448529Z",
     "iopub.status.busy": "2025-01-10T10:27:02.448176Z",
     "iopub.status.idle": "2025-01-10T10:27:02.458269Z",
     "shell.execute_reply": "2025-01-10T10:27:02.456720Z",
     "shell.execute_reply.started": "2025-01-10T10:27:02.448502Z"
    }
   },
   "outputs": [],
   "source": [
    "topic=lsa_values.latent_0.sort_values(ascending=False)\n",
    "topic=topic[:10]"
   ]
  },
  {
   "cell_type": "code",
   "execution_count": 90,
   "metadata": {
    "execution": {
     "iopub.execute_input": "2025-01-10T10:27:03.413158Z",
     "iopub.status.busy": "2025-01-10T10:27:03.412792Z",
     "iopub.status.idle": "2025-01-10T10:27:03.708688Z",
     "shell.execute_reply": "2025-01-10T10:27:03.707595Z",
     "shell.execute_reply.started": "2025-01-10T10:27:03.413127Z"
    }
   },
   "outputs": [
    {
     "data": {
      "text/plain": [
       "<BarContainer object of 10 artists>"
      ]
     },
     "execution_count": 90,
     "metadata": {},
     "output_type": "execute_result"
    },
    {
     "data": {
      "image/png": "[encoded data removed]",
      "text/plain": [
       "<Figure size 640x480 with 1 Axes>"
      ]
     },
     "metadata": {},
     "output_type": "display_data"
    }
   ],
   "source": [
    "plt.bar(topic.index,topic)"
   ]
  },
  {
   "cell_type": "markdown",
   "metadata": {},
   "source": [
    "The people most talked about the dress products and generally they loved our products.\n",
    "Also about its fittings, appearance..etc"
   ]
  },
  {
   "cell_type": "code",
   "execution_count": 117,
   "metadata": {
    "execution": {
     "iopub.execute_input": "2025-01-10T10:39:30.485606Z",
     "iopub.status.busy": "2025-01-10T10:39:30.485191Z",
     "iopub.status.idle": "2025-01-10T10:39:30.490395Z",
     "shell.execute_reply": "2025-01-10T10:39:30.489070Z",
     "shell.execute_reply.started": "2025-01-10T10:39:30.485560Z"
    }
   },
   "outputs": [],
   "source": [
    "#importing support vector machine\n",
    "#reducing the dimensions using PCA\n",
    "from sklearn.decomposition import PCA\n",
    "from sklearn.svm import SVC"
   ]
  },
  {
   "cell_type": "code",
   "execution_count": 133,
   "metadata": {
    "execution": {
     "iopub.execute_input": "2025-01-10T10:46:07.542336Z",
     "iopub.status.busy": "2025-01-10T10:46:07.541882Z",
     "iopub.status.idle": "2025-01-10T10:46:26.881924Z",
     "shell.execute_reply": "2025-01-10T10:46:26.880811Z",
     "shell.execute_reply.started": "2025-01-10T10:46:07.542295Z"
    }
   },
   "outputs": [],
   "source": [
    "decompose=PCA(n_components=30)\n",
    "pca_decomposed=decompose.fit_transform(tfidf)\n",
    "\n",
    "\n",
    "pca=pd.DataFrame(data=pca_decomposed,index=tfidf.index,columns=[f'decompsed{i}' for i in range(30)])"
   ]
  },
  {
   "cell_type": "code",
   "execution_count": 135,
   "metadata": {
    "execution": {
     "iopub.execute_input": "2025-01-10T10:46:48.422890Z",
     "iopub.status.busy": "2025-01-10T10:46:48.422457Z",
     "iopub.status.idle": "2025-01-10T10:46:48.435194Z",
     "shell.execute_reply": "2025-01-10T10:46:48.434262Z",
     "shell.execute_reply.started": "2025-01-10T10:46:48.422858Z"
    }
   },
   "outputs": [],
   "source": [
    "#creating the ratings based on the reviews\n",
    "tfidf_y=data['Rating']\n",
    "\n",
    "\n",
    "#spliting the data for training and testing\n",
    "tfidf_xtr,tfidf_xte,tfidf_ytr,tfidf_yte=train_test_split(pca,tfidf_y,test_size=0.2,random_state=2)\n"
   ]
  },
  {
   "cell_type": "code",
   "execution_count": 136,
   "metadata": {
    "execution": {
     "iopub.execute_input": "2025-01-10T10:47:42.243249Z",
     "iopub.status.busy": "2025-01-10T10:47:42.242853Z",
     "iopub.status.idle": "2025-01-10T10:48:01.581264Z",
     "shell.execute_reply": "2025-01-10T10:48:01.580137Z",
     "shell.execute_reply.started": "2025-01-10T10:47:42.243221Z"
    }
   },
   "outputs": [],
   "source": [
    "svc=SVC()\n",
    "model_svc=svc.fit(tfidf_xtr,tfidf_ytr)"
   ]
  },
  {
   "cell_type": "code",
   "execution_count": 138,
   "metadata": {
    "execution": {
     "iopub.execute_input": "2025-01-10T10:49:33.692702Z",
     "iopub.status.busy": "2025-01-10T10:49:33.692274Z",
     "iopub.status.idle": "2025-01-10T10:49:50.570520Z",
     "shell.execute_reply": "2025-01-10T10:49:50.569356Z",
     "shell.execute_reply.started": "2025-01-10T10:49:33.692667Z"
    }
   },
   "outputs": [],
   "source": [
    "tfidf_xtr_pred=model_svc.predict(tfidf_xtr)"
   ]
  },
  {
   "cell_type": "code",
   "execution_count": 139,
   "metadata": {
    "execution": {
     "iopub.execute_input": "2025-01-10T10:50:10.482271Z",
     "iopub.status.busy": "2025-01-10T10:50:10.481782Z",
     "iopub.status.idle": "2025-01-10T10:50:14.485912Z",
     "shell.execute_reply": "2025-01-10T10:50:14.484892Z",
     "shell.execute_reply.started": "2025-01-10T10:50:10.482226Z"
    }
   },
   "outputs": [],
   "source": [
    "tfidf_xte_pred=model_svc.predict(tfidf_xte)"
   ]
  },
  {
   "cell_type": "code",
   "execution_count": 145,
   "metadata": {
    "execution": {
     "iopub.execute_input": "2025-01-10T10:52:48.361613Z",
     "iopub.status.busy": "2025-01-10T10:52:48.361294Z",
     "iopub.status.idle": "2025-01-10T10:52:48.369997Z",
     "shell.execute_reply": "2025-01-10T10:52:48.369099Z",
     "shell.execute_reply.started": "2025-01-10T10:52:48.361588Z"
    }
   },
   "outputs": [
    {
     "name": "stdout",
     "output_type": "stream",
     "text": [
      "Training accuracy 0.6591646004196071\n",
      "Testing accuracy 0.5936943808797356\n"
     ]
    }
   ],
   "source": [
    "#checking the model's accuracy\n",
    "print(f'Training accuracy {accuracy_score(tfidf_ytr,tfidf_xtr_pred)}')\n",
    "print(f'Testing accuracy {accuracy_score(tfidf_yte,tfidf_xte_pred)}')\n"
   ]
  },
  {
   "cell_type": "code",
   "execution_count": 146,
   "metadata": {
    "execution": {
     "iopub.execute_input": "2025-01-10T10:57:48.440318Z",
     "iopub.status.busy": "2025-01-10T10:57:48.439605Z",
     "iopub.status.idle": "2025-01-10T10:57:48.446215Z",
     "shell.execute_reply": "2025-01-10T10:57:48.445062Z",
     "shell.execute_reply.started": "2025-01-10T10:57:48.440255Z"
    }
   },
   "outputs": [],
   "source": [
    "#hyper_parameter tuning for the SVC\n",
    "param={'C':[0.1,0.5,1,10],'gamma':['scale','auto'],'kernel':['linear','rbf','poly']}"
   ]
  },
  {
   "cell_type": "code",
   "execution_count": 147,
   "metadata": {
    "execution": {
     "iopub.execute_input": "2025-01-10T10:58:16.492621Z",
     "iopub.status.busy": "2025-01-10T10:58:16.492260Z",
     "iopub.status.idle": "2025-01-10T10:58:16.497223Z",
     "shell.execute_reply": "2025-01-10T10:58:16.495734Z",
     "shell.execute_reply.started": "2025-01-10T10:58:16.492590Z"
    }
   },
   "outputs": [],
   "source": [
    "#importing Gridsearch CV\n",
    "from sklearn.model_selection import GridSearchCV"
   ]
  },
  {
   "cell_type": "code",
   "execution_count": 148,
   "metadata": {
    "execution": {
     "iopub.execute_input": "2025-01-10T10:59:46.878383Z",
     "iopub.status.busy": "2025-01-10T10:59:46.878025Z",
     "iopub.status.idle": "2025-01-10T10:59:46.883330Z",
     "shell.execute_reply": "2025-01-10T10:59:46.882130Z",
     "shell.execute_reply.started": "2025-01-10T10:59:46.878356Z"
    }
   },
   "outputs": [],
   "source": [
    "grid=GridSearchCV(svc,param_grid=param,cv=5,n_jobs=-1)"
   ]
  },
  {
   "cell_type": "code",
   "execution_count": 158,
   "metadata": {
    "execution": {
     "iopub.execute_input": "2025-01-10T11:01:30.443487Z",
     "iopub.status.busy": "2025-01-10T11:01:30.443146Z",
     "iopub.status.idle": "2025-01-10T11:11:40.579712Z",
     "shell.execute_reply": "2025-01-10T11:11:40.578545Z",
     "shell.execute_reply.started": "2025-01-10T11:01:30.443463Z"
    }
   },
   "outputs": [
    {
     "data": {
      "text/html": [
       "<style>#sk-container-id-3 {color: black;background-color: white;}#sk-container-id-3 pre{padding: 0;}#sk-container-id-3 div.sk-toggleable {background-color: white;}#sk-container-id-3 label.sk-toggleable__label {cursor: pointer;display: block;width: 100%;margin-bottom: 0;padding: 0.3em;box-sizing: border-box;text-align: center;}#sk-container-id-3 label.sk-toggleable__label-arrow:before {content: \"▸\";float: left;margin-right: 0.25em;color: #696969;}#sk-container-id-3 label.sk-toggleable__label-arrow:hover:before {color: black;}#sk-container-id-3 div.sk-estimator:hover label.sk-toggleable__label-arrow:before {color: black;}#sk-container-id-3 div.sk-toggleable__content {max-height: 0;max-width: 0;overflow: hidden;text-align: left;background-color: #f0f8ff;}#sk-container-id-3 div.sk-toggleable__content pre {margin: 0.2em;color: black;border-radius: 0.25em;background-color: #f0f8ff;}#sk-container-id-3 input.sk-toggleable__control:checked~div.sk-toggleable__content {max-height: 200px;max-width: 100%;overflow: auto;}#sk-container-id-3 input.sk-toggleable__control:checked~label.sk-toggleable__label-arrow:before {content: \"▾\";}#sk-container-id-3 div.sk-estimator input.sk-toggleable__control:checked~label.sk-toggleable__label {background-color: #d4ebff;}#sk-container-id-3 div.sk-label input.sk-toggleable__control:checked~label.sk-toggleable__label {background-color: #d4ebff;}#sk-container-id-3 input.sk-hidden--visually {border: 0;clip: rect(1px 1px 1px 1px);clip: rect(1px, 1px, 1px, 1px);height: 1px;margin: -1px;overflow: hidden;padding: 0;position: absolute;width: 1px;}#sk-container-id-3 div.sk-estimator {font-family: monospace;background-color: #f0f8ff;border: 1px dotted black;border-radius: 0.25em;box-sizing: border-box;margin-bottom: 0.5em;}#sk-container-id-3 div.sk-estimator:hover {background-color: #d4ebff;}#sk-container-id-3 div.sk-parallel-item::after {content: \"\";width: 100%;border-bottom: 1px solid gray;flex-grow: 1;}#sk-container-id-3 div.sk-label:hover label.sk-toggleable__label {background-color: #d4ebff;}#sk-container-id-3 div.sk-serial::before {content: \"\";position: absolute;border-left: 1px solid gray;box-sizing: border-box;top: 0;bottom: 0;left: 50%;z-index: 0;}#sk-container-id-3 div.sk-serial {display: flex;flex-direction: column;align-items: center;background-color: white;padding-right: 0.2em;padding-left: 0.2em;position: relative;}#sk-container-id-3 div.sk-item {position: relative;z-index: 1;}#sk-container-id-3 div.sk-parallel {display: flex;align-items: stretch;justify-content: center;background-color: white;position: relative;}#sk-container-id-3 div.sk-item::before, #sk-container-id-3 div.sk-parallel-item::before {content: \"\";position: absolute;border-left: 1px solid gray;box-sizing: border-box;top: 0;bottom: 0;left: 50%;z-index: -1;}#sk-container-id-3 div.sk-parallel-item {display: flex;flex-direction: column;z-index: 1;position: relative;background-color: white;}#sk-container-id-3 div.sk-parallel-item:first-child::after {align-self: flex-end;width: 50%;}#sk-container-id-3 div.sk-parallel-item:last-child::after {align-self: flex-start;width: 50%;}#sk-container-id-3 div.sk-parallel-item:only-child::after {width: 0;}#sk-container-id-3 div.sk-dashed-wrapped {border: 1px dashed gray;margin: 0 0.4em 0.5em 0.4em;box-sizing: border-box;padding-bottom: 0.4em;background-color: white;}#sk-container-id-3 div.sk-label label {font-family: monospace;font-weight: bold;display: inline-block;line-height: 1.2em;}#sk-container-id-3 div.sk-label-container {text-align: center;}#sk-container-id-3 div.sk-container {/* jupyter's `normalize.less` sets `[hidden] { display: none; }` but bootstrap.min.css set `[hidden] { display: none !important; }` so we also need the `!important` here to be able to override the default hidden behavior on the sphinx rendered scikit-learn.org. See: https://github.com/scikit-learn/scikit-learn/issues/21755 */display: inline-block !important;position: relative;}#sk-container-id-3 div.sk-text-repr-fallback {display: none;}</style><div id=\"sk-container-id-3\" class=\"sk-top-container\"><div class=\"sk-text-repr-fallback\"><pre>GridSearchCV(cv=5, estimator=SVC(), n_jobs=-1,\n",
       "             param_grid={&#x27;C&#x27;: [0.1, 0.5, 1, 10], &#x27;gamma&#x27;: [&#x27;scale&#x27;, &#x27;auto&#x27;],\n",
       "                         &#x27;kernel&#x27;: [&#x27;linear&#x27;, &#x27;rbf&#x27;, &#x27;poly&#x27;]})</pre><b>In a Jupyter environment, please rerun this cell to show the HTML representation or trust the notebook. <br />On GitHub, the HTML representation is unable to render, please try loading this page with nbviewer.org.</b></div><div class=\"sk-container\" hidden><div class=\"sk-item sk-dashed-wrapped\"><div class=\"sk-label-container\"><div class=\"sk-label sk-toggleable\"><input class=\"sk-toggleable__control sk-hidden--visually\" id=\"sk-estimator-id-5\" type=\"checkbox\" ><label for=\"sk-estimator-id-5\" class=\"sk-toggleable__label sk-toggleable__label-arrow\">GridSearchCV</label><div class=\"sk-toggleable__content\"><pre>GridSearchCV(cv=5, estimator=SVC(), n_jobs=-1,\n",
       "             param_grid={&#x27;C&#x27;: [0.1, 0.5, 1, 10], &#x27;gamma&#x27;: [&#x27;scale&#x27;, &#x27;auto&#x27;],\n",
       "                         &#x27;kernel&#x27;: [&#x27;linear&#x27;, &#x27;rbf&#x27;, &#x27;poly&#x27;]})</pre></div></div></div><div class=\"sk-parallel\"><div class=\"sk-parallel-item\"><div class=\"sk-item\"><div class=\"sk-label-container\"><div class=\"sk-label sk-toggleable\"><input class=\"sk-toggleable__control sk-hidden--visually\" id=\"sk-estimator-id-6\" type=\"checkbox\" ><label for=\"sk-estimator-id-6\" class=\"sk-toggleable__label sk-toggleable__label-arrow\">estimator: SVC</label><div class=\"sk-toggleable__content\"><pre>SVC()</pre></div></div></div><div class=\"sk-serial\"><div class=\"sk-item\"><div class=\"sk-estimator sk-toggleable\"><input class=\"sk-toggleable__control sk-hidden--visually\" id=\"sk-estimator-id-7\" type=\"checkbox\" ><label for=\"sk-estimator-id-7\" class=\"sk-toggleable__label sk-toggleable__label-arrow\">SVC</label><div class=\"sk-toggleable__content\"><pre>SVC()</pre></div></div></div></div></div></div></div></div></div></div>"
      ],
      "text/plain": [
       "GridSearchCV(cv=5, estimator=SVC(), n_jobs=-1,\n",
       "             param_grid={'C': [0.1, 0.5, 1, 10], 'gamma': ['scale', 'auto'],\n",
       "                         'kernel': ['linear', 'rbf', 'poly']})"
      ]
     },
     "execution_count": 158,
     "metadata": {},
     "output_type": "execute_result"
    }
   ],
   "source": [
    "grid.fit(tfidf_xtr,tfidf_ytr)"
   ]
  },
  {
   "cell_type": "code",
   "execution_count": 160,
   "metadata": {
    "execution": {
     "iopub.execute_input": "2025-01-10T11:15:02.332714Z",
     "iopub.status.busy": "2025-01-10T11:15:02.332359Z",
     "iopub.status.idle": "2025-01-10T11:15:02.339239Z",
     "shell.execute_reply": "2025-01-10T11:15:02.338159Z",
     "shell.execute_reply.started": "2025-01-10T11:15:02.332687Z"
    }
   },
   "outputs": [
    {
     "data": {
      "text/plain": [
       "{'C': 1, 'gamma': 'scale', 'kernel': 'rbf'}"
      ]
     },
     "execution_count": 160,
     "metadata": {},
     "output_type": "execute_result"
    }
   ],
   "source": [
    "grid.best_params_"
   ]
  },
  {
   "cell_type": "code",
   "execution_count": 162,
   "metadata": {
    "execution": {
     "iopub.execute_input": "2025-01-10T11:17:11.949286Z",
     "iopub.status.busy": "2025-01-10T11:17:11.948872Z",
     "iopub.status.idle": "2025-01-10T11:17:11.953962Z",
     "shell.execute_reply": "2025-01-10T11:17:11.952376Z",
     "shell.execute_reply.started": "2025-01-10T11:17:11.949258Z"
    }
   },
   "outputs": [],
   "source": [
    "#The Gridsearch VC's best paramater is same as the default parametrs."
   ]
  },
  {
   "cell_type": "code",
   "execution_count": 163,
   "metadata": {
    "execution": {
     "iopub.execute_input": "2025-01-10T11:17:30.478326Z",
     "iopub.status.busy": "2025-01-10T11:17:30.477955Z",
     "iopub.status.idle": "2025-01-10T11:17:30.482740Z",
     "shell.execute_reply": "2025-01-10T11:17:30.481385Z",
     "shell.execute_reply.started": "2025-01-10T11:17:30.478299Z"
    }
   },
   "outputs": [],
   "source": [
    "#creating the dashboard out of EDA "
   ]
  },
  {
   "cell_type": "code",
   "execution_count": 256,
   "metadata": {
    "execution": {
     "iopub.execute_input": "2025-01-10T12:10:48.672218Z",
     "iopub.status.busy": "2025-01-10T12:10:48.671781Z",
     "iopub.status.idle": "2025-01-10T12:10:49.696826Z",
     "shell.execute_reply": "2025-01-10T12:10:49.695701Z",
     "shell.execute_reply.started": "2025-01-10T12:10:48.672184Z"
    }
   },
   "outputs": [
    {
     "name": "stderr",
     "output_type": "stream",
     "text": [
      "<ipython-input-256-1131655eb649>:27: UserWarning: FixedFormatter should only be used together with FixedLocator\n",
      "  axs[2,0].set_xticklabels(sentiment_by_subcategory.index,rotation=90)\n"
     ]
    },
    {
     "data": {
      "image/png": "[encoded data removed]",
      "text/plain": [
       "<Figure size 800x800 with 6 Axes>"
      ]
     },
     "metadata": {},
     "output_type": "display_data"
    }
   ],
   "source": [
    "fig,axs=plt.subplots(3,2,figsize=(8,8))\n",
    "\n",
    "axs[0,0].imshow(pstv_wc)\n",
    "axs[0,0].axis('off')\n",
    "axs[0,0].set_title('Postive words cloud')\n",
    "\n",
    "axs[0,1].imshow(negt_wc)\n",
    "axs[0,1].axis('off')\n",
    "axs[0,1].set_title('Negative words cloud')\n",
    "\n",
    "axs[1,0].bar(sentiment_by_loc.index,sentiment_by_loc['NEGATIVE'],label='Negative')\n",
    "axs[1,0].bar(sentiment_by_loc.index,sentiment_by_loc['POSITIVE'],bottom=sentiment_by_loc['NEGATIVE'],label='Postive')\n",
    "axs[1,0].set_title('Sentiment by Location')\n",
    "axs[1,0].set_xlabel('Location')\n",
    "axs[1,0].set_ylabel('Sentiments')\n",
    "\n",
    "axs[1,1].bar(sentiment_by_channel.index,sentiment_by_channel['NEGATIVE'])\n",
    "axs[1,1].bar(sentiment_by_channel.index,sentiment_by_channel['POSITIVE'],bottom=sentiment_by_channel['NEGATIVE'])\n",
    "axs[1,1].set_xlabel('Channel')\n",
    "axs[1,1].set_ylabel('Sentiments')\n",
    "\n",
    "\n",
    "axs[2,0].bar(sentiment_by_subcategory.index,sentiment_by_subcategory['NEGATIVE'])\n",
    "axs[2,0].bar(sentiment_by_subcategory.index,sentiment_by_subcategory['POSITIVE'],bottom=sentiment_by_subcategory['NEGATIVE'])\n",
    "axs[2,0].set_xlabel('Subcategory')\n",
    "axs[2,0].set_ylabel('Sentiments')\n",
    "axs[2,0].set_xticklabels(sentiment_by_subcategory.index,rotation=90)\n",
    "\n",
    "axs[2,1].bar(sentiment_by_demography.index,sentiment_by_demography['NEGATIVE'])\n",
    "axs[2,1].bar(sentiment_by_demography.index,sentiment_by_demography['POSITIVE'],bottom=sentiment_by_demography['NEGATIVE'])\n",
    "axs[2,1].set_xlabel('Age Groups')\n",
    "axs[2,1].set_ylabel('Sentiments')\n",
    "\n",
    "\n",
    "plt.tight_layout()\n",
    "plt.show()"
   ]
  },
  {
   "cell_type": "code",
   "execution_count": null,
   "metadata": {},
   "outputs": [],
   "source": []
  }
 ],
 "metadata": {
  "kaggle": {
   "accelerator": "none",
   "dataSources": [
    {
     "datasetId": 6416903,
     "sourceId": 10361126,
     "sourceType": "datasetVersion"
    },
    {
     "datasetId": 6438413,
     "sourceId": 10392188,
     "sourceType": "datasetVersion"
    },
    {
     "datasetId": 6439259,
     "sourceId": 10393276,
     "sourceType": "datasetVersion"
    }
   ],
   "dockerImageVersionId": 30822,
   "isGpuEnabled": false,
   "isInternetEnabled": true,
   "language": "python",
   "sourceType": "notebook"
  },
  "kernelspec": {
   "display_name": "Python 3",
   "language": "python",
   "name": "python3"
  },
  "language_info": {
   "codemirror_mode": {
    "name": "ipython",
    "version": 3
   },
   "file_extension": ".py",
   "mimetype": "text/x-python",
   "name": "python",
   "nbconvert_exporter": "python",
   "pygments_lexer": "ipython3",
   "version": "3.6.4"
  }
 },
 "nbformat": 4,
 "nbformat_minor": 4
}
